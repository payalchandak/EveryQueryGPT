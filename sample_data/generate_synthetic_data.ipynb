{
 "cells": [
  {
   "cell_type": "markdown",
   "id": "b05dc29b",
   "metadata": {},
   "source": [
    "# Synthetic Data Generation\n",
    "\n",
    "This notebook generates some simple synthetic data for us to use to demonstrate the ESGPT pipeline. We'll generate a few files:\n",
    "  1. `subjects.csv`, which contains static data about each subject.\n",
    "  2. `admission_vitals.csv`, which contains records of admissions, transfers, and vitals signs.\n",
    "  3. `lab_tests.csv`, which contains records of lab test measurements.\n",
    "  \n",
    "This is all synthetic data designed solely for demonstrating this pipeline. It is *not* real data, derived from real data, or designed to mimic real data in any way other than plausible file structure."
   ]
  },
  {
   "cell_type": "code",
   "execution_count": 1,
   "id": "b01ee8cf",
   "metadata": {},
   "outputs": [],
   "source": [
    "import random\n",
    "from datetime import datetime, timedelta\n",
    "from pathlib import Path\n",
    "\n",
    "import numpy as np\n",
    "import polars as pl\n",
    "\n",
    "random.seed(1)\n",
    "np.random.seed(1)"
   ]
  },
  {
   "cell_type": "code",
   "execution_count": 2,
   "id": "09fa95eb",
   "metadata": {},
   "outputs": [],
   "source": [
    "# Parameters:\n",
    "N_subjects = 100\n",
    "OUT_DIR = Path(\"./raw\")"
   ]
  },
  {
   "cell_type": "markdown",
   "id": "638c878a",
   "metadata": {},
   "source": [
    "## Subjects Data\n",
    "Subjects will have the following static data elements, and will be organized by a fake identifier column called \"MRN\":\n",
    "  * Date of birth\n",
    "  * Eye Color (among options \"BROWN\", \"BLUE\", \"HAZEL\", \"GREEN\", \"OTHER\")\n",
    "  * Height (in cm, as a raw number)"
   ]
  },
  {
   "cell_type": "code",
   "execution_count": 3,
   "id": "b15e3b66",
   "metadata": {},
   "outputs": [
    {
     "data": {
      "text/html": [
       "<div><style>\n",
       ".dataframe > thead > tr > th,\n",
       ".dataframe > tbody > tr > td {\n",
       "  text-align: right;\n",
       "}\n",
       "</style>\n",
       "<small>shape: (3, 4)</small><table border=\"1\" class=\"dataframe\"><thead><tr><th>MRN</th><th>dob</th><th>eye_color</th><th>height</th></tr><tr><td>i64</td><td>str</td><td>str</td><td>f64</td></tr></thead><tbody><tr><td>310243</td><td>&quot;07/28/1981&quot;</td><td>&quot;GREEN&quot;</td><td>178.767932</td></tr><tr><td>384198</td><td>&quot;04/15/1985&quot;</td><td>&quot;BROWN&quot;</td><td>168.319295</td></tr><tr><td>520533</td><td>&quot;04/15/1979&quot;</td><td>&quot;BROWN&quot;</td><td>165.836447</td></tr></tbody></table></div>"
      ],
      "text/plain": [
       "shape: (3, 4)\n",
       "┌────────┬────────────┬───────────┬────────────┐\n",
       "│ MRN    ┆ dob        ┆ eye_color ┆ height     │\n",
       "│ ---    ┆ ---        ┆ ---       ┆ ---        │\n",
       "│ i64    ┆ str        ┆ str       ┆ f64        │\n",
       "╞════════╪════════════╪═══════════╪════════════╡\n",
       "│ 310243 ┆ 07/28/1981 ┆ GREEN     ┆ 178.767932 │\n",
       "│ 384198 ┆ 04/15/1985 ┆ BROWN     ┆ 168.319295 │\n",
       "│ 520533 ┆ 04/15/1979 ┆ BROWN     ┆ 165.836447 │\n",
       "└────────┴────────────┴───────────┴────────────┘"
      ]
     },
     "execution_count": 3,
     "metadata": {},
     "output_type": "execute_result"
    }
   ],
   "source": [
    "random.seed(1)\n",
    "np.random.seed(1)\n",
    "\n",
    "BASE_BIRTH_DATE = datetime(1980, 1, 1)\n",
    "EYE_COLORS = [\"BROWN\", \"BLUE\", \"HAZEL\", \"GREEN\", \"OTHER\"]\n",
    "EYE_COLOR_P = [0.45, 0.27, 0.18, 0.09, 0.01]\n",
    "\n",
    "\n",
    "def yrs_to_dob(yrs: np.ndarray) -> list[str]:\n",
    "    return [(BASE_BIRTH_DATE + timedelta(days=365 * x)).strftime(\"%m/%d/%Y\") for x in yrs]\n",
    "\n",
    "\n",
    "size = (N_subjects,)\n",
    "subject_data = pl.DataFrame(\n",
    "    {\n",
    "        \"MRN\": np.random.randint(low=14221, high=1578208, size=size),\n",
    "        \"dob\": yrs_to_dob(np.random.uniform(low=-10, high=10, size=size)),\n",
    "        \"eye_color\": list(np.random.choice(EYE_COLORS, size=size, replace=True, p=EYE_COLOR_P)),\n",
    "        \"height\": list(np.random.uniform(low=152.4, high=182.88, size=size)),\n",
    "    }\n",
    ").sample(fraction=1, with_replacement=False, shuffle=True, seed=1)\n",
    "\n",
    "assert len(subject_data[\"MRN\"].unique()) == N_subjects\n",
    "\n",
    "subject_data.write_csv(OUT_DIR / \"subjects.csv\")\n",
    "subject_data.head(3)"
   ]
  },
  {
   "cell_type": "markdown",
   "id": "62271f2f",
   "metadata": {},
   "source": [
    "## Admission Vitals Data\n",
    "This file will contain records of admission start and end dates, admission department (among options \"PULMONARY\", \"CARDIAC\", and \"ORTHOPEDIC\"), and regular vitals signs (temperature and HR). In this format, admission dates will be replicated across each associated vitals signs measurement, which is wasteful. Real data would not likely be organized like this, but it gives us a more complex file format to work with in our example."
   ]
  },
  {
   "cell_type": "code",
   "execution_count": 4,
   "id": "0b3eaedf",
   "metadata": {},
   "outputs": [
    {
     "data": {
      "text/html": [
       "<div><style>\n",
       ".dataframe > thead > tr > th,\n",
       ".dataframe > tbody > tr > td {\n",
       "  text-align: right;\n",
       "}\n",
       "</style>\n",
       "<small>shape: (3, 7)</small><table border=\"1\" class=\"dataframe\"><thead><tr><th>MRN</th><th>admit_date</th><th>disch_date</th><th>department</th><th>vitals_date</th><th>HR</th><th>temp</th></tr><tr><td>i64</td><td>str</td><td>str</td><td>str</td><td>str</td><td>f64</td><td>f64</td></tr></thead><tbody><tr><td>1549363</td><td>&quot;01/04/2010, 06…</td><td>&quot;01/14/2010, 11…</td><td>&quot;ORTHOPEDIC&quot;</td><td>&quot;01/11/2010, 14…</td><td>77.1</td><td>96.3</td></tr><tr><td>415881</td><td>&quot;02/11/2010, 04…</td><td>&quot;02/14/2010, 07…</td><td>&quot;ORTHOPEDIC&quot;</td><td>&quot;02/11/2010, 10…</td><td>148.5</td><td>95.6</td></tr><tr><td>42335</td><td>&quot;03/06/2010, 05…</td><td>&quot;03/16/2010, 05…</td><td>&quot;CARDIAC&quot;</td><td>&quot;03/13/2010, 10…</td><td>46.7</td><td>101.0</td></tr></tbody></table></div>"
      ],
      "text/plain": [
       "shape: (3, 7)\n",
       "┌─────────┬─────────────┬──────────────────────┬────────────┬──────────────────────┬───────┬───────┐\n",
       "│ MRN     ┆ admit_date  ┆ disch_date           ┆ department ┆ vitals_date          ┆ HR    ┆ temp  │\n",
       "│ ---     ┆ ---         ┆ ---                  ┆ ---        ┆ ---                  ┆ ---   ┆ ---   │\n",
       "│ i64     ┆ str         ┆ str                  ┆ str        ┆ str                  ┆ f64   ┆ f64   │\n",
       "╞═════════╪═════════════╪══════════════════════╪════════════╪══════════════════════╪═══════╪═══════╡\n",
       "│ 1549363 ┆ 01/04/2010, ┆ 01/14/2010, 11:41:31 ┆ ORTHOPEDIC ┆ 01/11/2010, 14:18:35 ┆ 77.1  ┆ 96.3  │\n",
       "│         ┆ 06:36:31    ┆                      ┆            ┆                      ┆       ┆       │\n",
       "│ 415881  ┆ 02/11/2010, ┆ 02/14/2010, 07:56:23 ┆ ORTHOPEDIC ┆ 02/11/2010, 10:34:17 ┆ 148.5 ┆ 95.6  │\n",
       "│         ┆ 04:59:07    ┆                      ┆            ┆                      ┆       ┆       │\n",
       "│ 42335   ┆ 03/06/2010, ┆ 03/16/2010, 05:09:11 ┆ CARDIAC    ┆ 03/13/2010, 10:47:39 ┆ 46.7  ┆ 101.0 │\n",
       "│         ┆ 05:33:18    ┆                      ┆            ┆                      ┆       ┆       │\n",
       "└─────────┴─────────────┴──────────────────────┴────────────┴──────────────────────┴───────┴───────┘"
      ]
     },
     "execution_count": 4,
     "metadata": {},
     "output_type": "execute_result"
    }
   ],
   "source": [
    "random.seed(1)\n",
    "np.random.seed(1)\n",
    "\n",
    "admit_vitals_data = {\n",
    "    \"MRN\": [],\n",
    "    \"admit_date\": [],\n",
    "    \"disch_date\": [],\n",
    "    \"department\": [],\n",
    "    \"vitals_date\": [],\n",
    "    \"HR\": [],\n",
    "    \"temp\": [],\n",
    "}\n",
    "\n",
    "BASE_ADMIT_DATE = datetime(2010, 1, 1)\n",
    "\n",
    "hrs = 60\n",
    "days = 24 * hrs\n",
    "months = 30 * days\n",
    "\n",
    "n_admissions_L = np.random.randint(low=1, high=4, size=size)\n",
    "admit_depts_L = np.random.choice([\"PULMONARY\", \"CARDIAC\", \"ORTHOPEDIC\"], size=size, replace=True)\n",
    "\n",
    "admissions_by_subject = {}\n",
    "\n",
    "for MRN, n_admissions, dept in zip(subject_data[\"MRN\"], n_admissions_L, admit_depts_L):\n",
    "    admit_gaps = np.random.uniform(low=1 * days, high=6 * months, size=(n_admissions,))\n",
    "    admit_lens = np.random.uniform(low=12 * hrs, high=14 * days, size=(n_admissions,))\n",
    "\n",
    "    running_end = BASE_ADMIT_DATE\n",
    "    admissions_by_subject[MRN] = []\n",
    "\n",
    "    for gap, L in zip(admit_gaps, admit_lens):\n",
    "        running_start = running_end + timedelta(minutes=gap)\n",
    "        running_end = running_start + timedelta(minutes=L)\n",
    "\n",
    "        admissions_by_subject[MRN].append((running_start, running_end))\n",
    "\n",
    "        vitals_time = running_start\n",
    "\n",
    "        running_HR = np.random.uniform(low=60, high=180)\n",
    "        running_temp = np.random.uniform(low=95, high=101)\n",
    "        while vitals_time < running_end:\n",
    "            admit_vitals_data[\"MRN\"].append(MRN)\n",
    "            admit_vitals_data[\"admit_date\"].append(running_start.strftime(\"%m/%d/%Y, %H:%M:%S\"))\n",
    "            admit_vitals_data[\"disch_date\"].append(running_end.strftime(\"%m/%d/%Y, %H:%M:%S\"))\n",
    "            admit_vitals_data[\"department\"].append(dept)\n",
    "            admit_vitals_data[\"vitals_date\"].append(vitals_time.strftime(\"%m/%d/%Y, %H:%M:%S\"))\n",
    "\n",
    "            running_HR += np.random.uniform(low=-10, high=10)\n",
    "            if running_HR < 30: running_HR = 30\n",
    "            if running_HR > 300: running_HR = 300\n",
    "                \n",
    "            running_temp += np.random.uniform(low=-0.4, high=0.4)\n",
    "            if running_temp < 95: running_temp = 95\n",
    "            if running_temp > 104: running_temp = 104\n",
    "\n",
    "            admit_vitals_data[\"HR\"].append(round(running_HR, 1))\n",
    "            admit_vitals_data[\"temp\"].append(round(running_temp, 1))\n",
    "\n",
    "            if 7 < vitals_time.hour < 21:\n",
    "                vitals_gap = 30 + np.random.uniform(low=-30, high=30)\n",
    "            else:\n",
    "                vitals_gap = 3 * hrs + np.random.uniform(low=-30, high=30)\n",
    "\n",
    "            vitals_time += timedelta(minutes=vitals_gap)\n",
    "\n",
    "admit_vitals_data = pl.DataFrame(admit_vitals_data).sample(\n",
    "    fraction=1, with_replacement=False, shuffle=True, seed=1\n",
    ")\n",
    "\n",
    "admit_vitals_data.write_csv(OUT_DIR / \"admit_vitals.csv\")\n",
    "admit_vitals_data.head(3)"
   ]
  },
  {
   "cell_type": "markdown",
   "id": "93e01635",
   "metadata": {},
   "source": [
    "## Labs Data\n",
    "This file will contain numerical laboratory test results for these subjects across the following lab tests:\n",
    "  * potassium (3 - 6)\n",
    "  * creatinine (0.4 - 1.5)\n",
    "  * SOFA score (1, 2, 3, or 4)\n",
    "  * Glasgow Coma Scale (1 - 15, discrete)\n",
    "  * SpO2 (0-1)"
   ]
  },
  {
   "cell_type": "code",
   "execution_count": 5,
   "id": "c99bb42f",
   "metadata": {},
   "outputs": [
    {
     "data": {
      "text/html": [
       "<div><style>\n",
       ".dataframe > thead > tr > th,\n",
       ".dataframe > tbody > tr > td {\n",
       "  text-align: right;\n",
       "}\n",
       "</style>\n",
       "<small>shape: (3, 4)</small><table border=\"1\" class=\"dataframe\"><thead><tr><th>MRN</th><th>timestamp</th><th>lab_name</th><th>lab_value</th></tr><tr><td>i64</td><td>str</td><td>str</td><td>f64</td></tr></thead><tbody><tr><td>928262</td><td>&quot;09:31:08-2010-…</td><td>&quot;SpO2&quot;</td><td>50.0</td></tr><tr><td>689012</td><td>&quot;04:28:32-2010-…</td><td>&quot;creatinine&quot;</td><td>1.45</td></tr><tr><td>706423</td><td>&quot;01:18:05-2010-…</td><td>&quot;SpO2&quot;</td><td>51.0</td></tr></tbody></table></div>"
      ],
      "text/plain": [
       "shape: (3, 4)\n",
       "┌────────┬─────────────────────┬────────────┬───────────┐\n",
       "│ MRN    ┆ timestamp           ┆ lab_name   ┆ lab_value │\n",
       "│ ---    ┆ ---                 ┆ ---        ┆ ---       │\n",
       "│ i64    ┆ str                 ┆ str        ┆ f64       │\n",
       "╞════════╪═════════════════════╪════════════╪═══════════╡\n",
       "│ 928262 ┆ 09:31:08-2010-03-04 ┆ SpO2       ┆ 50.0      │\n",
       "│ 689012 ┆ 04:28:32-2010-08-18 ┆ creatinine ┆ 1.45      │\n",
       "│ 706423 ┆ 01:18:05-2010-07-22 ┆ SpO2       ┆ 51.0      │\n",
       "└────────┴─────────────────────┴────────────┴───────────┘"
      ]
     },
     "execution_count": 5,
     "metadata": {},
     "output_type": "execute_result"
    }
   ],
   "source": [
    "random.seed(1)\n",
    "np.random.seed(1)\n",
    "\n",
    "labs_data = {\n",
    "    \"MRN\": [],\n",
    "    \"timestamp\": [],\n",
    "    \"lab_name\": [],\n",
    "    \"lab_value\": [],\n",
    "}\n",
    "\n",
    "\n",
    "def lab_delta_fn(running_vals: dict[str, float], lab_to_meas: str) -> float:\n",
    "    do_outlier = np.random.uniform() < 0.0001\n",
    "\n",
    "    if lab_to_meas not in (\"GCS\", \"SOFA\") and do_outlier:\n",
    "        return 1e6\n",
    "\n",
    "    old_val = running_vals[lab_to_meas]\n",
    "    if lab_to_meas == \"SOFA\":\n",
    "        delta = np.random.randint(low=-2, high=2)\n",
    "        new_val = old_val + delta\n",
    "        if new_val < 1:\n",
    "            new_val = 1\n",
    "        elif new_val > 4:\n",
    "            new_val = 4\n",
    "    elif lab_to_meas == \"GCS\":\n",
    "        delta = np.random.randint(low=-4, high=4)\n",
    "        new_val = old_val + delta\n",
    "        if new_val < 1:\n",
    "            new_val = 1\n",
    "        elif new_val > 15:\n",
    "            new_val = 15\n",
    "    elif lab_to_meas == \"SpO2\":\n",
    "        delta = np.random.randint(low=-2, high=2)\n",
    "        new_val = old_val + delta\n",
    "        if new_val < 50:\n",
    "            new_val = 50\n",
    "        elif new_val > 100:\n",
    "            new_val = 100\n",
    "    else:\n",
    "        delta = np.random.uniform(low=-0.1, high=0.1)\n",
    "        new_val = old_val + delta\n",
    "        if new_val < 0:\n",
    "            new_val = 0\n",
    "\n",
    "    running_vals[lab_to_meas] = new_val\n",
    "    return round(new_val, 2)\n",
    "\n",
    "\n",
    "hrs = 60\n",
    "days = 24 * hrs\n",
    "months = 30 * days\n",
    "\n",
    "for MRN, admissions in admissions_by_subject.items():\n",
    "    lab_ps = np.random.dirichlet(alpha=[0.1 for _ in range(5)])\n",
    "\n",
    "    base_lab_gaps = {\n",
    "        \"potassium\": np.random.uniform(low=1 * hrs, high=48 * hrs),\n",
    "        \"creatinine\": np.random.uniform(low=1 * hrs, high=48 * hrs),\n",
    "        \"SOFA\": np.random.uniform(low=1 * hrs, high=48 * hrs),\n",
    "        \"GCS\": np.random.uniform(low=1 * hrs, high=48 * hrs),\n",
    "        \"SpO2\": np.random.uniform(low=15, high=1 * hrs),\n",
    "    }\n",
    "\n",
    "    for st, end in admissions:\n",
    "        running_lab_values = {\n",
    "            \"potassium\": np.random.uniform(low=3, high=6),\n",
    "            \"creatinine\": np.random.uniform(low=0.4, high=1.5),\n",
    "            \"SOFA\": np.random.randint(low=1, high=4),\n",
    "            \"GCS\": np.random.randint(low=1, high=15),\n",
    "            \"SpO2\": np.random.randint(low=70, high=100),\n",
    "        }\n",
    "\n",
    "        for lab in base_lab_gaps.keys():\n",
    "            gap = base_lab_gaps[lab]\n",
    "            labs_time = st + timedelta(minutes=gap + np.random.uniform(low=-30, high=30))\n",
    "\n",
    "            while labs_time < running_end:\n",
    "                labs_data[\"MRN\"].append(MRN)\n",
    "                labs_data[\"timestamp\"].append(labs_time.strftime(\"%H:%M:%S-%Y-%m-%d\"))\n",
    "                labs_data[\"lab_name\"].append(lab)\n",
    "\n",
    "                labs_data[\"lab_value\"].append(lab_delta_fn(running_lab_values, lab))\n",
    "\n",
    "                if 7 < labs_time.hour < 21:\n",
    "                    labs_gap = gap + np.random.uniform(low=-30, high=30)\n",
    "                else:\n",
    "                    labs_gap = min(2 * gap, 12 * hrs) + np.random.uniform(low=-30, high=30)\n",
    "\n",
    "                labs_time += timedelta(minutes=labs_gap)\n",
    "\n",
    "labs_data = pl.DataFrame(labs_data).sample(fraction=1, with_replacement=False, shuffle=True, seed=1)\n",
    "\n",
    "labs_data.write_csv(OUT_DIR / \"labs.csv\")\n",
    "labs_data.head(3)"
   ]
  },
  {
   "cell_type": "code",
   "execution_count": 6,
   "id": "0f62eafd",
   "metadata": {},
   "outputs": [
    {
     "data": {
      "text/html": [
       "<div><style>\n",
       ".dataframe > thead > tr > th,\n",
       ".dataframe > tbody > tr > td {\n",
       "  text-align: right;\n",
       "}\n",
       "</style>\n",
       "<small>shape: (1, 1)</small><table border=\"1\" class=\"dataframe\"><thead><tr><th>lab_value</th></tr><tr><td>f64</td></tr></thead><tbody><tr><td>3.792061</td></tr></tbody></table></div>"
      ],
      "text/plain": [
       "shape: (1, 1)\n",
       "┌───────────┐\n",
       "│ lab_value │\n",
       "│ ---       │\n",
       "│ f64       │\n",
       "╞═══════════╡\n",
       "│ 3.792061  │\n",
       "└───────────┘"
      ]
     },
     "execution_count": 6,
     "metadata": {},
     "output_type": "execute_result"
    }
   ],
   "source": [
    "(labs_data.filter(pl.col(\"lab_name\") == \"GCS\").select(pl.col(\"lab_value\").std()))"
   ]
  },
  {
   "cell_type": "code",
   "execution_count": null,
   "id": "cf0c7576",
   "metadata": {},
   "outputs": [],
   "source": []
  }
 ],
 "metadata": {
  "kernelspec": {
   "display_name": "Python 3 (ipykernel)",
   "language": "python",
   "name": "python3"
  },
  "language_info": {
   "codemirror_mode": {
    "name": "ipython",
    "version": 3
   },
   "file_extension": ".py",
   "mimetype": "text/x-python",
   "name": "python",
   "nbconvert_exporter": "python",
   "pygments_lexer": "ipython3",
   "version": "3.10.9"
  }
 },
 "nbformat": 4,
 "nbformat_minor": 5
}
