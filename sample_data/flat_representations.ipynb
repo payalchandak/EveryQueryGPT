{
 "cells": [
  {
   "cell_type": "markdown",
   "id": "22f2a71f",
   "metadata": {},
   "source": [
    "# Flat Representations Tutorial"
   ]
  },
  {
   "cell_type": "code",
   "execution_count": 1,
   "id": "a8c74a81",
   "metadata": {},
   "outputs": [],
   "source": [
    "import sys\n",
    "\n",
    "sys.path.append(\"../\")"
   ]
  },
  {
   "cell_type": "code",
   "execution_count": 2,
   "id": "cd4c4571",
   "metadata": {},
   "outputs": [],
   "source": [
    "# Imports\n",
    "import os\n",
    "from pathlib import Path\n",
    "import polars as pl, numpy as np\n",
    "import polars.selectors as cs\n",
    "\n",
    "from EventStream.data.dataset_polars import Dataset\n",
    "from EventStream.evaluation.FT_task_baseline import load_flat_rep, fit_baseline_task_model\n",
    "\n",
    "from sklearn.ensemble import RandomForestClassifier"
   ]
  },
  {
   "cell_type": "code",
   "execution_count": 3,
   "id": "942e8049",
   "metadata": {},
   "outputs": [],
   "source": [
    "ESD = Dataset.load(Path(os.getcwd()) / \"processed/sample\")"
   ]
  },
  {
   "cell_type": "code",
   "execution_count": 4,
   "id": "993583ec",
   "metadata": {
    "scrolled": true
   },
   "outputs": [
    {
     "data": {
      "application/vnd.jupyter.widget-view+json": {
       "model_id": "3550e514442541dc8f825c631dbd0ae7",
       "version_major": 2,
       "version_minor": 0
      },
      "text/plain": [
       "Flattening Splits:   0%|          | 0/3 [00:00<?, ?it/s]"
      ]
     },
     "metadata": {},
     "output_type": "display_data"
    },
    {
     "data": {
      "application/vnd.jupyter.widget-view+json": {
       "model_id": "",
       "version_major": 2,
       "version_minor": 0
      },
      "text/plain": [
       "Subject chunks:   0%|          | 0/1 [00:00<?, ?it/s]"
      ]
     },
     "metadata": {},
     "output_type": "display_data"
    },
    {
     "data": {
      "application/vnd.jupyter.widget-view+json": {
       "model_id": "",
       "version_major": 2,
       "version_minor": 0
      },
      "text/plain": [
       "Subject chunks:   0%|          | 0/1 [00:00<?, ?it/s]"
      ]
     },
     "metadata": {},
     "output_type": "display_data"
    },
    {
     "data": {
      "application/vnd.jupyter.widget-view+json": {
       "model_id": "",
       "version_major": 2,
       "version_minor": 0
      },
      "text/plain": [
       "Subject chunks:   0%|          | 0/1 [00:00<?, ?it/s]"
      ]
     },
     "metadata": {},
     "output_type": "display_data"
    }
   ],
   "source": [
    "ESD.cache_flat_representation(\n",
    "    subjects_per_output_file=None,\n",
    "    feature_inclusion_frequency=None,\n",
    "    do_overwrite=False,\n",
    "    do_update=True,\n",
    ")"
   ]
  },
  {
   "cell_type": "code",
   "execution_count": null,
   "id": "f0b91850",
   "metadata": {},
   "outputs": [],
   "source": [
    "flat_reps = load_flat_rep(ESD, window_sizes=['7d', '30d', 'FULL'])\n",
    "display(flat_reps['train'].head().collect())"
   ]
  },
  {
   "cell_type": "code",
   "execution_count": null,
   "id": "31b3e3e3",
   "metadata": {},
   "outputs": [],
   "source": [
    "task_df = (\n",
    "    ESD.events_df\n",
    "    .groupby('subject_id')\n",
    "    .agg(pl.col('timestamp').sample().first().alias('end_time'))\n",
    "    .with_columns(\n",
    "        pl.lit(np.random.choice([0, 1, 2], size=len(ESD.subject_ids))).alias('label'),\n",
    "        pl.lit(None, dtype=pl.Datetime).alias('start_time')\n",
    "    )\n",
    ").lazy()"
   ]
  },
  {
   "cell_type": "code",
   "execution_count": null,
   "id": "d6f4cf40",
   "metadata": {
    "scrolled": false
   },
   "outputs": [],
   "source": [
    "out = fit_baseline_task_model(\n",
    "    task_df, 'label', ESD, n_samples=3, \n",
    "    model_cls = RandomForestClassifier,\n",
    "    model_param_distributions={'min_samples_split': [2, 10, 100]},\n",
    "    verbose=20,\n",
    "    hyperparameter_search_budget=2,\n",
    "    error_score='raise',\n",
    "    window_size_options=['7d', '30d', 'FULL'],\n",
    "    seed=1,\n",
    ")"
   ]
  },
  {
   "cell_type": "code",
   "execution_count": null,
   "id": "5a9a8e64",
   "metadata": {},
   "outputs": [],
   "source": [
    "out.best_params_"
   ]
  },
  {
   "cell_type": "code",
   "execution_count": null,
   "id": "7fbe60ec",
   "metadata": {},
   "outputs": [],
   "source": [
    "out.best_estimator_"
   ]
  }
 ],
 "metadata": {
  "kernelspec": {
   "display_name": "Python 3 (ipykernel)",
   "language": "python",
   "name": "python3"
  },
  "language_info": {
   "codemirror_mode": {
    "name": "ipython",
    "version": 3
   },
   "file_extension": ".py",
   "mimetype": "text/x-python",
   "name": "python",
   "nbconvert_exporter": "python",
   "pygments_lexer": "ipython3",
   "version": "3.10.9"
  }
 },
 "nbformat": 4,
 "nbformat_minor": 5
}
